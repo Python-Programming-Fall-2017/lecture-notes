{
 "cells": [
  {
   "cell_type": "code",
   "execution_count": 1,
   "metadata": {},
   "outputs": [
    {
     "data": {
      "application/javascript": [
       "IPython.notebook.set_autosave_interval(1000)"
      ]
     },
     "metadata": {},
     "output_type": "display_data"
    },
    {
     "name": "stdout",
     "output_type": "stream",
     "text": [
      "Autosaving every 1 seconds\n"
     ]
    }
   ],
   "source": [
    "%autosave 1"
   ]
  },
  {
   "cell_type": "markdown",
   "metadata": {},
   "source": [
    "# Equivalent vs. identical\n",
    "\n",
    "In the contexts of Python,\n",
    "\n",
    "- If two variables refer to the same object, they are identical\n",
    "    - `a is b` would be `True`\n",
    "- If two objects have the same values, they are equivalent\n",
    "\n",
    "The \"`is`\" (***not*** the same as the comparison operator `==`) operator checks if two objects are identical."
   ]
  },
  {
   "cell_type": "markdown",
   "metadata": {},
   "source": [
    "## Equivalent mutable objects are not necessarily identical\n",
    "\n",
    "- Identical-ness implies equivalent-ness\n",
    "    - If `a is b` is true, `a == b` is always true\n",
    "- Equivalent-ness does not imply identical-ness\n",
    "    - If `a == b` is true, we cannot be certain `a is b`"
   ]
  },
  {
   "cell_type": "code",
   "execution_count": 2,
   "metadata": {},
   "outputs": [
    {
     "data": {
      "text/plain": [
       "False"
      ]
     },
     "execution_count": 2,
     "metadata": {},
     "output_type": "execute_result"
    }
   ],
   "source": [
    "# These two lists are equivalent (having same elements), but not identical\n",
    "\n",
    "a = [1, 2, 3]\n",
    "b = [1, 2, 3]\n",
    "\n",
    "a is b"
   ]
  },
  {
   "cell_type": "code",
   "execution_count": 3,
   "metadata": {},
   "outputs": [
    {
     "data": {
      "text/plain": [
       "True"
      ]
     },
     "execution_count": 3,
     "metadata": {},
     "output_type": "execute_result"
    }
   ],
   "source": [
    "a == b"
   ]
  },
  {
   "cell_type": "code",
   "execution_count": 4,
   "metadata": {},
   "outputs": [
    {
     "data": {
      "text/plain": [
       "([1, 2, 3], [1, 2, 3, 99])"
      ]
     },
     "execution_count": 4,
     "metadata": {},
     "output_type": "execute_result"
    }
   ],
   "source": [
    "# Since they are not identical, changing b does not affect a\n",
    "\n",
    "b.append(99)\n",
    "a, b"
   ]
  },
  {
   "cell_type": "markdown",
   "metadata": {},
   "source": [
    "## identical mutable objects  -- be careful of this behavior of Python!"
   ]
  },
  {
   "cell_type": "code",
   "execution_count": 5,
   "metadata": {
    "collapsed": true
   },
   "outputs": [],
   "source": [
    "a = [1, 2, 3]\n",
    "b = a"
   ]
  },
  {
   "cell_type": "code",
   "execution_count": 6,
   "metadata": {},
   "outputs": [
    {
     "data": {
      "text/plain": [
       "True"
      ]
     },
     "execution_count": 6,
     "metadata": {},
     "output_type": "execute_result"
    }
   ],
   "source": [
    "a == b"
   ]
  },
  {
   "cell_type": "code",
   "execution_count": 7,
   "metadata": {},
   "outputs": [
    {
     "data": {
      "text/plain": [
       "True"
      ]
     },
     "execution_count": 7,
     "metadata": {},
     "output_type": "execute_result"
    }
   ],
   "source": [
    "a is b"
   ]
  },
  {
   "cell_type": "markdown",
   "metadata": {},
   "source": [
    "Watch this behavior:"
   ]
  },
  {
   "cell_type": "code",
   "execution_count": 8,
   "metadata": {},
   "outputs": [
    {
     "data": {
      "text/plain": [
       "([1, 2, 3, 99], [1, 2, 3, 99])"
      ]
     },
     "execution_count": 8,
     "metadata": {},
     "output_type": "execute_result"
    }
   ],
   "source": [
    "b.append(99)\n",
    "a, b"
   ]
  },
  {
   "cell_type": "markdown",
   "metadata": {},
   "source": [
    "In fact, this behavior is useful when you do not have to make separate copies of objects. But if you are not careful, you could run into trouble."
   ]
  },
  {
   "cell_type": "markdown",
   "metadata": {},
   "source": [
    "To break this behavior, use the `.copy` member function to create a new object of the same contents"
   ]
  },
  {
   "cell_type": "code",
   "execution_count": 9,
   "metadata": {
    "collapsed": true
   },
   "outputs": [],
   "source": [
    "a = [1,2,3]\n",
    "b = a.copy()     # explicit copy"
   ]
  },
  {
   "cell_type": "markdown",
   "metadata": {},
   "source": [
    "b and a are two independent objects. Changing either one does not affect the other."
   ]
  },
  {
   "cell_type": "code",
   "execution_count": 10,
   "metadata": {},
   "outputs": [
    {
     "data": {
      "text/plain": [
       "True"
      ]
     },
     "execution_count": 10,
     "metadata": {},
     "output_type": "execute_result"
    }
   ],
   "source": [
    "a == b"
   ]
  },
  {
   "cell_type": "code",
   "execution_count": 11,
   "metadata": {},
   "outputs": [
    {
     "data": {
      "text/plain": [
       "False"
      ]
     },
     "execution_count": 11,
     "metadata": {},
     "output_type": "execute_result"
    }
   ],
   "source": [
    "a is b"
   ]
  },
  {
   "cell_type": "code",
   "execution_count": 12,
   "metadata": {},
   "outputs": [
    {
     "data": {
      "text/plain": [
       "[1, 2, 3, 99]"
      ]
     },
     "execution_count": 12,
     "metadata": {},
     "output_type": "execute_result"
    }
   ],
   "source": [
    "b.append(99)\n",
    "b"
   ]
  },
  {
   "cell_type": "markdown",
   "metadata": {},
   "source": [
    "a is unaffected:"
   ]
  },
  {
   "cell_type": "code",
   "execution_count": 13,
   "metadata": {},
   "outputs": [
    {
     "data": {
      "text/plain": [
       "[1, 2, 3]"
      ]
     },
     "execution_count": 13,
     "metadata": {},
     "output_type": "execute_result"
    }
   ],
   "source": [
    "a"
   ]
  },
  {
   "cell_type": "markdown",
   "metadata": {},
   "source": [
    "## Immutable objects"
   ]
  },
  {
   "cell_type": "markdown",
   "metadata": {},
   "source": [
    "### numbers"
   ]
  },
  {
   "cell_type": "code",
   "execution_count": 14,
   "metadata": {},
   "outputs": [
    {
     "data": {
      "text/plain": [
       "True"
      ]
     },
     "execution_count": 14,
     "metadata": {},
     "output_type": "execute_result"
    }
   ],
   "source": [
    "a = 3\n",
    "b = 3\n",
    "a is b"
   ]
  },
  {
   "cell_type": "code",
   "execution_count": 15,
   "metadata": {},
   "outputs": [
    {
     "data": {
      "text/plain": [
       "True"
      ]
     },
     "execution_count": 15,
     "metadata": {},
     "output_type": "execute_result"
    }
   ],
   "source": [
    "a == b"
   ]
  },
  {
   "cell_type": "markdown",
   "metadata": {},
   "source": [
    "### strings"
   ]
  },
  {
   "cell_type": "code",
   "execution_count": 16,
   "metadata": {},
   "outputs": [
    {
     "data": {
      "text/plain": [
       "True"
      ]
     },
     "execution_count": 16,
     "metadata": {},
     "output_type": "execute_result"
    }
   ],
   "source": [
    "a = 'banana'\n",
    "b = 'banana'\n",
    "a is b"
   ]
  },
  {
   "cell_type": "code",
   "execution_count": 17,
   "metadata": {},
   "outputs": [
    {
     "data": {
      "text/plain": [
       "True"
      ]
     },
     "execution_count": 17,
     "metadata": {},
     "output_type": "execute_result"
    }
   ],
   "source": [
    "a == b"
   ]
  },
  {
   "cell_type": "markdown",
   "metadata": {},
   "source": [
    "### tuples"
   ]
  },
  {
   "cell_type": "code",
   "execution_count": 18,
   "metadata": {},
   "outputs": [
    {
     "data": {
      "text/plain": [
       "True"
      ]
     },
     "execution_count": 18,
     "metadata": {},
     "output_type": "execute_result"
    }
   ],
   "source": [
    "a = (3,5,7)\n",
    "b = (3,5,7)\n",
    "a == b"
   ]
  },
  {
   "cell_type": "code",
   "execution_count": 19,
   "metadata": {},
   "outputs": [
    {
     "data": {
      "text/plain": [
       "False"
      ]
     },
     "execution_count": 19,
     "metadata": {},
     "output_type": "execute_result"
    }
   ],
   "source": [
    "a is b"
   ]
  },
  {
   "cell_type": "markdown",
   "metadata": {},
   "source": [
    "### examples"
   ]
  },
  {
   "cell_type": "code",
   "execution_count": 20,
   "metadata": {},
   "outputs": [
    {
     "data": {
      "text/plain": [
       "'apple'"
      ]
     },
     "execution_count": 20,
     "metadata": {},
     "output_type": "execute_result"
    }
   ],
   "source": [
    "a = 'apple'\n",
    "b = a\n",
    "a = 'orange'\n",
    "b"
   ]
  },
  {
   "cell_type": "code",
   "execution_count": 21,
   "metadata": {},
   "outputs": [
    {
     "data": {
      "text/plain": [
       "(3, 5, 7)"
      ]
     },
     "execution_count": 21,
     "metadata": {},
     "output_type": "execute_result"
    }
   ],
   "source": [
    "a = (3,5,7)\n",
    "b = a\n",
    "a = (1,2,3)\n",
    "b"
   ]
  },
  {
   "cell_type": "markdown",
   "metadata": {},
   "source": [
    "Advice: if this is confusing to you, try not to write a program that depends on these behaviors!"
   ]
  },
  {
   "cell_type": "markdown",
   "metadata": {},
   "source": [
    "# List - revisit\n",
    "\n",
    "One of the most important Python object types"
   ]
  },
  {
   "cell_type": "markdown",
   "metadata": {},
   "source": [
    "- list is mutable\n",
    "- Most (not all) list methods modifies the list and returns `None`"
   ]
  },
  {
   "cell_type": "markdown",
   "metadata": {},
   "source": [
    "What's wrong with this statement:"
   ]
  },
  {
   "cell_type": "code",
   "execution_count": 22,
   "metadata": {
    "collapsed": true
   },
   "outputs": [],
   "source": [
    "a = [1,2,3,4]\n",
    "a = a.append(5)\n",
    "# a = ?"
   ]
  },
  {
   "cell_type": "markdown",
   "metadata": {},
   "source": [
    "What's wrong with this function?"
   ]
  },
  {
   "cell_type": "code",
   "execution_count": 23,
   "metadata": {
    "collapsed": true
   },
   "outputs": [],
   "source": [
    "def myfunc1(a):\n",
    "    a = a.append(-99)\n",
    "    return a\n",
    "\n",
    "a = [1,2,3,4]\n",
    "b = myfunc1(a)\n",
    "# b = ?"
   ]
  },
  {
   "cell_type": "markdown",
   "metadata": {},
   "source": [
    "## Learn how to read the documentation\n",
    "\n",
    "i.e. get familiar with the language and style used in Python documentation"
   ]
  },
  {
   "cell_type": "code",
   "execution_count": 24,
   "metadata": {},
   "outputs": [
    {
     "name": "stdout",
     "output_type": "stream",
     "text": [
      "Help on built-in function append:\n",
      "\n",
      "append(...) method of builtins.list instance\n",
      "    L.append(object) -> None -- append object to end\n",
      "\n"
     ]
    }
   ],
   "source": [
    "a = []\n",
    "help(a.append)"
   ]
  },
  {
   "cell_type": "markdown",
   "metadata": {},
   "source": [
    "## Deleting elements in a list\n",
    "\n",
    "There are different ways:\n",
    "\n",
    "1. del\n",
    "2. pop(index)\n",
    "3. remove(element)"
   ]
  },
  {
   "cell_type": "code",
   "execution_count": 25,
   "metadata": {
    "collapsed": true
   },
   "outputs": [],
   "source": [
    "a = ['a', 'b', 'c', 'd']\n",
    "x = a.pop(2)"
   ]
  },
  {
   "cell_type": "markdown",
   "metadata": {},
   "source": [
    "The list `a` becomes:"
   ]
  },
  {
   "cell_type": "code",
   "execution_count": 26,
   "metadata": {},
   "outputs": [
    {
     "data": {
      "text/plain": [
       "['a', 'b', 'd']"
      ]
     },
     "execution_count": 26,
     "metadata": {},
     "output_type": "execute_result"
    }
   ],
   "source": [
    "a"
   ]
  },
  {
   "cell_type": "markdown",
   "metadata": {},
   "source": [
    "`x` captures the element that was popped:"
   ]
  },
  {
   "cell_type": "code",
   "execution_count": 27,
   "metadata": {},
   "outputs": [
    {
     "data": {
      "text/plain": [
       "'c'"
      ]
     },
     "execution_count": 27,
     "metadata": {},
     "output_type": "execute_result"
    }
   ],
   "source": [
    "x"
   ]
  },
  {
   "cell_type": "markdown",
   "metadata": {},
   "source": [
    "By default (without specifying the index), `.pop()` removed the last element from a list:"
   ]
  },
  {
   "cell_type": "code",
   "execution_count": 28,
   "metadata": {},
   "outputs": [
    {
     "data": {
      "text/plain": [
       "['a', 'b']"
      ]
     },
     "execution_count": 28,
     "metadata": {},
     "output_type": "execute_result"
    }
   ],
   "source": [
    "a.pop()\n",
    "a"
   ]
  },
  {
   "cell_type": "markdown",
   "metadata": {},
   "source": [
    "Check the documentation of a function: `help()`"
   ]
  },
  {
   "cell_type": "code",
   "execution_count": 29,
   "metadata": {},
   "outputs": [
    {
     "name": "stdout",
     "output_type": "stream",
     "text": [
      "Help on built-in function pop:\n",
      "\n",
      "pop(...) method of builtins.list instance\n",
      "    L.pop([index]) -> item -- remove and return item at index (default last).\n",
      "    Raises IndexError if list is empty or index is out of range.\n",
      "\n"
     ]
    }
   ],
   "source": [
    "help(a.pop)"
   ]
  },
  {
   "cell_type": "code",
   "execution_count": 30,
   "metadata": {},
   "outputs": [
    {
     "data": {
      "text/plain": [
       "['a', 'b', 'x']"
      ]
     },
     "execution_count": 30,
     "metadata": {},
     "output_type": "execute_result"
    }
   ],
   "source": [
    "# add a few elements\n",
    "a.append('x')\n",
    "a"
   ]
  },
  {
   "cell_type": "code",
   "execution_count": 31,
   "metadata": {},
   "outputs": [
    {
     "data": {
      "text/plain": [
       "['a']"
      ]
     },
     "execution_count": 31,
     "metadata": {},
     "output_type": "execute_result"
    }
   ],
   "source": [
    "del a[1:3]\n",
    "a"
   ]
  },
  {
   "cell_type": "code",
   "execution_count": 32,
   "metadata": {},
   "outputs": [
    {
     "data": {
      "text/plain": [
       "[]"
      ]
     },
     "execution_count": 32,
     "metadata": {},
     "output_type": "execute_result"
    }
   ],
   "source": [
    "a.remove('a')\n",
    "a"
   ]
  },
  {
   "cell_type": "code",
   "execution_count": 33,
   "metadata": {},
   "outputs": [
    {
     "name": "stdout",
     "output_type": "stream",
     "text": [
      "Help on built-in function remove:\n",
      "\n",
      "remove(...) method of builtins.list instance\n",
      "    L.remove(value) -> None -- remove first occurrence of value.\n",
      "    Raises ValueError if the value is not present.\n",
      "\n"
     ]
    }
   ],
   "source": [
    "help(a.remove)"
   ]
  },
  {
   "cell_type": "markdown",
   "metadata": {},
   "source": [
    "## Utility functions for lists\n",
    "\n",
    "- len(list)\n",
    "- max(list)\n",
    "- min(list)\n",
    "- sum(list)   # for numbers"
   ]
  },
  {
   "cell_type": "code",
   "execution_count": 34,
   "metadata": {},
   "outputs": [
    {
     "data": {
      "text/plain": [
       "(45, 9, 1, 9)"
      ]
     },
     "execution_count": 34,
     "metadata": {},
     "output_type": "execute_result"
    }
   ],
   "source": [
    "a = [1,2,3,4,5,6,7,8,9]\n",
    "sum(a), max(a), min(a), len(a)"
   ]
  },
  {
   "cell_type": "code",
   "execution_count": 35,
   "metadata": {},
   "outputs": [
    {
     "name": "stdout",
     "output_type": "stream",
     "text": [
      "5.0\n"
     ]
    }
   ],
   "source": [
    "avg = sum(a) / len(a)\n",
    "print(avg)"
   ]
  },
  {
   "cell_type": "markdown",
   "metadata": {},
   "source": [
    "## Some examples"
   ]
  },
  {
   "cell_type": "markdown",
   "metadata": {},
   "source": [
    "t = [1,2,3]\n",
    "\n",
    "To append elements, use\n",
    "\n",
    "- t.append(99)\n",
    "- t = t + [99]"
   ]
  },
  {
   "cell_type": "code",
   "execution_count": 36,
   "metadata": {},
   "outputs": [
    {
     "data": {
      "text/plain": [
       "[1, 2, 3, 99]"
      ]
     },
     "execution_count": 36,
     "metadata": {},
     "output_type": "execute_result"
    }
   ],
   "source": [
    "t = [1,2,3]\n",
    "t = t + [99]   # or t.append(99)\n",
    "t"
   ]
  },
  {
   "cell_type": "markdown",
   "metadata": {},
   "source": [
    "These are wrong:\n",
    "\n",
    "```\n",
    "t.append([99])     # valid syntax but probably want you want\n",
    "t = t.append(99)   # destroys \"t\"!\n",
    "t + [99]           # does not append\n",
    "t = t + 99         # wrong: 99 is not a list\n",
    "```"
   ]
  },
  {
   "cell_type": "markdown",
   "metadata": {},
   "source": [
    "## Sorting a list\n",
    "\n",
    "There are two ways:\n",
    "\n",
    "- `.sort()` member function sorts the list in-place.\n",
    "- `sorted()` -- created a new sorted list"
   ]
  },
  {
   "cell_type": "markdown",
   "metadata": {},
   "source": [
    "### `.sort()`\n",
    "\n",
    "A member function of a list object."
   ]
  },
  {
   "cell_type": "code",
   "execution_count": 37,
   "metadata": {
    "collapsed": true
   },
   "outputs": [],
   "source": [
    "a = [5, -9, 3.145, 3, -18]"
   ]
  },
  {
   "cell_type": "code",
   "execution_count": 38,
   "metadata": {
    "collapsed": true
   },
   "outputs": [],
   "source": [
    "b = a.sort()"
   ]
  },
  {
   "cell_type": "code",
   "execution_count": 39,
   "metadata": {},
   "outputs": [
    {
     "data": {
      "text/plain": [
       "[-18, -9, 3, 3.145, 5]"
      ]
     },
     "execution_count": 39,
     "metadata": {},
     "output_type": "execute_result"
    }
   ],
   "source": [
    "a"
   ]
  },
  {
   "cell_type": "code",
   "execution_count": 40,
   "metadata": {
    "collapsed": true
   },
   "outputs": [],
   "source": [
    "b"
   ]
  },
  {
   "cell_type": "markdown",
   "metadata": {},
   "source": [
    "Why is `b` showing nothing?"
   ]
  },
  {
   "cell_type": "code",
   "execution_count": 41,
   "metadata": {
    "scrolled": false
   },
   "outputs": [
    {
     "name": "stdout",
     "output_type": "stream",
     "text": [
      "Help on built-in function sort:\n",
      "\n",
      "sort(...) method of builtins.list instance\n",
      "    L.sort(key=None, reverse=False) -> None -- stable sort *IN PLACE*\n",
      "\n"
     ]
    }
   ],
   "source": [
    "help(a.sort)"
   ]
  },
  {
   "cell_type": "markdown",
   "metadata": {},
   "source": [
    "Use `reverse` option to change sorting order:"
   ]
  },
  {
   "cell_type": "code",
   "execution_count": 42,
   "metadata": {},
   "outputs": [
    {
     "data": {
      "text/plain": [
       "[5, 3.145, 3, -9, -18]"
      ]
     },
     "execution_count": 42,
     "metadata": {},
     "output_type": "execute_result"
    }
   ],
   "source": [
    "a.sort(reverse=True)\n",
    "a"
   ]
  },
  {
   "cell_type": "markdown",
   "metadata": {},
   "source": [
    "### sorted()\n",
    "\n",
    "Return a new sorted list."
   ]
  },
  {
   "cell_type": "code",
   "execution_count": 43,
   "metadata": {
    "collapsed": true
   },
   "outputs": [],
   "source": [
    "a = [5, -9, 3.145, 3, -18]\n",
    "b = sorted(a)"
   ]
  },
  {
   "cell_type": "code",
   "execution_count": 44,
   "metadata": {},
   "outputs": [
    {
     "data": {
      "text/plain": [
       "[5, -9, 3.145, 3, -18]"
      ]
     },
     "execution_count": 44,
     "metadata": {},
     "output_type": "execute_result"
    }
   ],
   "source": [
    "a"
   ]
  },
  {
   "cell_type": "code",
   "execution_count": 45,
   "metadata": {},
   "outputs": [
    {
     "data": {
      "text/plain": [
       "[-18, -9, 3, 3.145, 5]"
      ]
     },
     "execution_count": 45,
     "metadata": {},
     "output_type": "execute_result"
    }
   ],
   "source": [
    "b"
   ]
  },
  {
   "cell_type": "markdown",
   "metadata": {},
   "source": [
    "Note that `sorted()` can be applied to other containers, e.g. dictionary, i.e."
   ]
  },
  {
   "cell_type": "code",
   "execution_count": 46,
   "metadata": {},
   "outputs": [
    {
     "data": {
      "text/plain": [
       "{1: 'a', 2: 'b', 3: 'c', 5: 'e'}"
      ]
     },
     "execution_count": 46,
     "metadata": {},
     "output_type": "execute_result"
    }
   ],
   "source": [
    "d = {1: 'a', 3: 'c', 2: 'b', 5: 'e'}\n",
    "d"
   ]
  },
  {
   "cell_type": "code",
   "execution_count": 47,
   "metadata": {},
   "outputs": [
    {
     "data": {
      "text/plain": [
       "[1, 2, 3, 5]"
      ]
     },
     "execution_count": 47,
     "metadata": {},
     "output_type": "execute_result"
    }
   ],
   "source": [
    "d2 = sorted(d)\n",
    "d2"
   ]
  },
  {
   "cell_type": "code",
   "execution_count": 48,
   "metadata": {},
   "outputs": [
    {
     "data": {
      "text/plain": [
       "[5, 3, 2, 1]"
      ]
     },
     "execution_count": 48,
     "metadata": {},
     "output_type": "execute_result"
    }
   ],
   "source": [
    "d3 = sorted(d, reverse=True)\n",
    "d3"
   ]
  },
  {
   "cell_type": "markdown",
   "metadata": {},
   "source": [
    "# String - revisit"
   ]
  },
  {
   "cell_type": "markdown",
   "metadata": {},
   "source": [
    "- Strings are immutable\n",
    "- Most (not all) string methods returns a new string."
   ]
  },
  {
   "cell_type": "markdown",
   "metadata": {},
   "source": [
    "## strings and lists\n",
    "\n",
    "Some functions that convert strings to or from lists"
   ]
  },
  {
   "cell_type": "markdown",
   "metadata": {},
   "source": [
    "### join elements of a list into a string"
   ]
  },
  {
   "cell_type": "code",
   "execution_count": 49,
   "metadata": {},
   "outputs": [
    {
     "data": {
      "text/plain": [
       "'Today Is A Good Day'"
      ]
     },
     "execution_count": 49,
     "metadata": {},
     "output_type": "execute_result"
    }
   ],
   "source": [
    "\n",
    "a = ['Today', 'Is', 'A', 'Good', 'Day']\n",
    "x = ' '.join(a)    # note the space character ' '\n",
    "x"
   ]
  },
  {
   "cell_type": "code",
   "execution_count": 50,
   "metadata": {},
   "outputs": [
    {
     "data": {
      "text/plain": [
       "'TodayIsAGoodDay'"
      ]
     },
     "execution_count": 50,
     "metadata": {},
     "output_type": "execute_result"
    }
   ],
   "source": [
    "''.join(a)"
   ]
  },
  {
   "cell_type": "code",
   "execution_count": 51,
   "metadata": {},
   "outputs": [
    {
     "data": {
      "text/plain": [
       "'Today---Is---A---Good---Day'"
      ]
     },
     "execution_count": 51,
     "metadata": {},
     "output_type": "execute_result"
    }
   ],
   "source": [
    "a = ['Today', 'Is', 'A', 'Good', 'Day']\n",
    "y = '---'.join(a)\n",
    "y"
   ]
  },
  {
   "cell_type": "markdown",
   "metadata": {},
   "source": [
    "### split a string into a list"
   ]
  },
  {
   "cell_type": "code",
   "execution_count": 52,
   "metadata": {},
   "outputs": [
    {
     "data": {
      "text/plain": [
       "['Today', 'is', 'a', 'good', 'day']"
      ]
     },
     "execution_count": 52,
     "metadata": {},
     "output_type": "execute_result"
    }
   ],
   "source": [
    "a = 'Today is a good day'\n",
    "a = a.split()                    # by default, ' ' is the delimiter\n",
    "a"
   ]
  },
  {
   "cell_type": "markdown",
   "metadata": {},
   "source": [
    "By default, `.split()` use the space character as the delimiter. One can specify the delimiter character."
   ]
  },
  {
   "cell_type": "code",
   "execution_count": 53,
   "metadata": {},
   "outputs": [
    {
     "data": {
      "text/plain": [
       "['John  Mary', 'Jane', 'LLoyd']"
      ]
     },
     "execution_count": 53,
     "metadata": {},
     "output_type": "execute_result"
    }
   ],
   "source": [
    "a = 'John  Mary,Jane,LLoyd'\n",
    "a.split(',')"
   ]
  },
  {
   "cell_type": "code",
   "execution_count": 54,
   "metadata": {},
   "outputs": [
    {
     "data": {
      "text/plain": [
       "['Today', 'is-a', 'good-day']"
      ]
     },
     "execution_count": 54,
     "metadata": {},
     "output_type": "execute_result"
    }
   ],
   "source": [
    "b = 'Today--is-a--good-day'\n",
    "b = b.split('--')                 # specify '--' to be the delimiter\n",
    "b"
   ]
  },
  {
   "cell_type": "code",
   "execution_count": 55,
   "metadata": {},
   "outputs": [
    {
     "name": "stdout",
     "output_type": "stream",
     "text": [
      "Help on built-in function split:\n",
      "\n",
      "split(...) method of builtins.str instance\n",
      "    S.split(sep=None, maxsplit=-1) -> list of strings\n",
      "    \n",
      "    Return a list of the words in S, using sep as the\n",
      "    delimiter string.  If maxsplit is given, at most maxsplit\n",
      "    splits are done. If sep is not specified or is None, any\n",
      "    whitespace string is a separator and empty strings are\n",
      "    removed from the result.\n",
      "\n"
     ]
    }
   ],
   "source": [
    "help(''.split)"
   ]
  },
  {
   "cell_type": "markdown",
   "metadata": {},
   "source": [
    "# Database\n",
    "\n",
    "- A database is a file organized for storing data\n",
    "- Query  (read)\n",
    "- Update (write)\n",
    "- Follow a standard format\n",
    "- data have types\n",
    "\n",
    "Examples: MySQL, PostgreSQL, SQLite, etc.\n",
    "\n",
    "SQLite is part of Python distribution, so we will use this to show examples. Using other database systems from Python is similar.\n",
    "\n",
    "To use SQLite in Python,\n",
    "```\n",
    "    import sqlite3\n",
    "```\n",
    "\n",
    "## SQL basics\n",
    "\n",
    "This is not a formal introduction of SQL; you should take a database class or read a book if you want to know more about it. \n",
    "\n",
    "Some working knowledge:\n",
    "\n",
    "- database table\n",
    "- row and columns\n",
    "- each column has a data type\n",
    "- relational databases\n",
    "\n",
    "Basic SQL commands:\n",
    "- select: query\n",
    "- insert: add a row in a table\n",
    "- create: create a new table\n",
    "- drop: delete a table\n",
    "\n",
    "\n",
    "Commonly used SQL commands:\n",
    "\n",
    "`CREATE TABLE table_name`\n",
    "\n",
    "`INSERT INTO table_name (column_name1, column_name2, ...) VALUES (v1,v2,...)`\n",
    "\n",
    "`SELECT * FROM table_name WHERE <condition>`\n",
    "\n",
    "`UPDATE table_name SET column_name=XXX WHERE <condition>`\n",
    "\n",
    "`DELETE FROM table_name WHERE <condition>`\n"
   ]
  },
  {
   "cell_type": "markdown",
   "metadata": {},
   "source": [
    "## Creating a database"
   ]
  },
  {
   "cell_type": "code",
   "execution_count": 56,
   "metadata": {
    "collapsed": true
   },
   "outputs": [],
   "source": [
    "import sqlite3\n",
    "\n",
    "conn = sqlite3.connect('mydb.sqlite')\n",
    "cur = conn.cursor()            # similar to a file handle, i.e. f = open(...)\n",
    "\n",
    "cur.execute('DROP TABLE IF EXISTS mytable')                      # SQL command\n",
    "cur.execute('CREATE TABLE mytable (name TEXT, score INTEGER)')   # SQL command\n",
    "\n",
    "# insert some records\n",
    "\n",
    "cur.execute('INSERT INTO mytable (name, score) VALUES (?,?)', ('John', 60))\n",
    "cur.execute('INSERT INTO mytable (name, score) VALUES (?,?)', ('Jane', 70))\n",
    "cur.execute('INSERT INTO mytable (name, score) VALUES (?,?)', ('Jim', 90))\n",
    "\n",
    "conn.commit()       # don't forget to commit!\n",
    "conn.close()"
   ]
  },
  {
   "cell_type": "markdown",
   "metadata": {},
   "source": [
    "Batch processing - prepare the data in a list of tuples, then call `executemany`:"
   ]
  },
  {
   "cell_type": "code",
   "execution_count": 57,
   "metadata": {
    "collapsed": true
   },
   "outputs": [],
   "source": [
    "import sqlite3\n",
    "\n",
    "conn = sqlite3.connect('mydb.sqlite')\n",
    "cur = conn.cursor()            # similar to a file handle, i.e. f = open(...)\n",
    "\n",
    "cur.execute('DROP TABLE IF EXISTS mytable')                      # SQL command\n",
    "cur.execute('CREATE TABLE mytable (name TEXT, score INTEGER)')   # SQL command\n",
    "\n",
    "d = [('John', 66), ('Jane', 77), ('Jim', 99)]\n",
    "\n",
    "cur.executemany('INSERT INTO mytable (name, score) VALUES (?,?)', d)\n",
    "\n",
    "conn.commit()       # don't forget to commit!\n",
    "conn.close()"
   ]
  },
  {
   "cell_type": "code",
   "execution_count": 58,
   "metadata": {},
   "outputs": [
    {
     "name": "stdout",
     "output_type": "stream",
     "text": [
      "John|66\r\n",
      "Jane|77\r\n",
      "Jim|99\r\n"
     ]
    }
   ],
   "source": [
    "# check db\n",
    "! sqlite3 mydb.sqlite \"select * from mytable\""
   ]
  },
  {
   "cell_type": "markdown",
   "metadata": {},
   "source": [
    "## query a table"
   ]
  },
  {
   "cell_type": "code",
   "execution_count": 59,
   "metadata": {},
   "outputs": [
    {
     "name": "stdout",
     "output_type": "stream",
     "text": [
      "('John', 66)\n",
      "('Jane', 77)\n",
      "('Jim', 99)\n"
     ]
    }
   ],
   "source": [
    "import sqlite3\n",
    "\n",
    "conn = sqlite3.connect('mydb.sqlite')\n",
    "cur = conn.cursor()\n",
    "\n",
    "cur.execute('SELECT * from mytable')\n",
    "for row in cur:\n",
    "    print(row)"
   ]
  },
  {
   "cell_type": "code",
   "execution_count": 60,
   "metadata": {},
   "outputs": [
    {
     "name": "stdout",
     "output_type": "stream",
     "text": [
      "('Jim', 99)\n"
     ]
    }
   ],
   "source": [
    "cur.execute('SELECT * from mytable where score > 80')\n",
    "for row in cur:\n",
    "    print(row)"
   ]
  },
  {
   "cell_type": "code",
   "execution_count": 61,
   "metadata": {},
   "outputs": [
    {
     "name": "stdout",
     "output_type": "stream",
     "text": [
      "('John', 66)\n"
     ]
    }
   ],
   "source": [
    "cur.execute('SELECT * from mytable where name = \"John\"')\n",
    "for row in cur:\n",
    "    print(row)"
   ]
  },
  {
   "cell_type": "markdown",
   "metadata": {},
   "source": [
    "## Update a row"
   ]
  },
  {
   "cell_type": "code",
   "execution_count": 62,
   "metadata": {},
   "outputs": [
    {
     "name": "stdout",
     "output_type": "stream",
     "text": [
      "('John', 99)\n"
     ]
    }
   ],
   "source": [
    "# update the row where name = \"John\"\n",
    "\n",
    "cur.execute('UPDATE mytable SET score=99 where name = \"John\"')\n",
    "conn.commit()\n",
    "\n",
    "cur.execute('SELECT * from mytable where name = \"John\"')\n",
    "for row in cur:\n",
    "    print(row)"
   ]
  },
  {
   "cell_type": "markdown",
   "metadata": {},
   "source": [
    "## Delete a row"
   ]
  },
  {
   "cell_type": "code",
   "execution_count": 63,
   "metadata": {},
   "outputs": [
    {
     "name": "stdout",
     "output_type": "stream",
     "text": [
      "('Jane', 77)\n",
      "('Jim', 99)\n"
     ]
    }
   ],
   "source": [
    "# delete the \"John\" row\n",
    "\n",
    "cur.execute('DELETE FROM mytable WHERE name = \"John\"')\n",
    "conn.commit()\n",
    "\n",
    "cur.execute('SELECT * from mytable')\n",
    "for row in cur:\n",
    "    print(row)"
   ]
  },
  {
   "cell_type": "markdown",
   "metadata": {},
   "source": [
    "# sqlite -- accessing by column names\n"
   ]
  },
  {
   "cell_type": "code",
   "execution_count": 64,
   "metadata": {},
   "outputs": [
    {
     "name": "stdout",
     "output_type": "stream",
     "text": [
      "John          123-456\n",
      "Jane          246-000\n",
      "Jim           333-333\n"
     ]
    }
   ],
   "source": [
    "import sqlite3\n",
    "\n",
    "conn = sqlite3.connect('data/mydb.sqlite')\n",
    "\n",
    "conn.row_factory = sqlite3.Row        # enable access by column names\n",
    "\n",
    "cur = conn.execute('SELECT * from mytable')\n",
    "for row in cur:\n",
    "    print('{:<10s} {:>10s}'.format(row['name'], row['phone']))\n",
    "\n",
    "conn.close()"
   ]
  },
  {
   "cell_type": "markdown",
   "metadata": {},
   "source": [
    "## Capture the query results in a list -- `fetchall()`"
   ]
  },
  {
   "cell_type": "code",
   "execution_count": 65,
   "metadata": {},
   "outputs": [
    {
     "name": "stdout",
     "output_type": "stream",
     "text": [
      "[('John', '101 Westwood, Los Angeles', '123-456'), ('Jane', '95 Hollywood, Los Angeles', '246-000'), ('Jim', '88 Pico Blvd, Los Angeles', '333-333')]\n"
     ]
    }
   ],
   "source": [
    "import sqlite3\n",
    "\n",
    "conn = sqlite3.connect('data/mydb.sqlite')\n",
    "cur = conn.execute('SELECT * from mytable')\n",
    "\n",
    "x = cur.fetchall()\n",
    "\n",
    "conn.close()\n",
    "print(x)"
   ]
  },
  {
   "cell_type": "code",
   "execution_count": 66,
   "metadata": {},
   "outputs": [
    {
     "name": "stdout",
     "output_type": "stream",
     "text": [
      "John             101 Westwood, Los Angeles\n",
      "Jane             95 Hollywood, Los Angeles\n",
      "Jim              88 Pico Blvd, Los Angeles\n"
     ]
    }
   ],
   "source": [
    "for t in x:\n",
    "    print('{:<15}  {}'.format(t[0],t[1]))"
   ]
  },
  {
   "cell_type": "markdown",
   "metadata": {},
   "source": [
    "## A word about cursor buffer\n",
    "\n",
    "The cursor buffer is emptied after access"
   ]
  },
  {
   "cell_type": "code",
   "execution_count": 67,
   "metadata": {},
   "outputs": [
    {
     "name": "stdout",
     "output_type": "stream",
     "text": [
      "after fetchall, x = [('John', '101 Westwood, Los Angeles', '123-456'), ('Jane', '95 Hollywood, Los Angeles', '246-000'), ('Jim', '88 Pico Blvd, Los Angeles', '333-333')]\n",
      "fetch again, x2 = []\n"
     ]
    }
   ],
   "source": [
    "import sqlite3\n",
    "\n",
    "conn = sqlite3.connect('data/mydb.sqlite')\n",
    "cur = conn.execute('SELECT * from mytable')\n",
    "x = cur.fetchall()\n",
    "\n",
    "print(\"after fetchall, x =\", x)\n",
    "\n",
    "# At this point, the cursor's buffer has been emptied (by the \"fetch\")\n",
    "# fetch again\n",
    "\n",
    "x2 = cur.fetchall()\n",
    "print('fetch again, x2 =',x2)\n",
    "\n",
    "conn.close()"
   ]
  },
  {
   "cell_type": "markdown",
   "metadata": {},
   "source": [
    "# Try... except...\n",
    "\n",
    "Capture expected/unexpected errors and prevent crash"
   ]
  },
  {
   "cell_type": "code",
   "execution_count": 68,
   "metadata": {},
   "outputs": [
    {
     "name": "stdout",
     "output_type": "stream",
     "text": [
      "John\r\n",
      "Mary\r\n",
      "Jane\r\n",
      "Jack\r\n",
      "Lily\r\n"
     ]
    }
   ],
   "source": [
    "! rm -f db1.sqlite\n",
    "# example of inserting duplicate items\n",
    "\n",
    "import sqlite3\n",
    "conn = sqlite3.connect('db1.sqlite')\n",
    "cur = conn.cursor()\n",
    "cur = conn.execute('DROP TABLE IF EXISTS mytable')\n",
    "cur.execute('CREATE TABLE mytable (name TEXT UNIQUE)')    # note the \"UNIQUE\" constraint\n",
    "\n",
    "for x in ['John', 'Mary', 'Jane'] + ['Jack', 'Lily']:\n",
    "#for x in ['John', 'Mary', 'Jane'] + ['John'] + ['Jack', 'Lily']:   # duplicate item causes error!\n",
    "\n",
    "    cur.execute('INSERT INTO mytable (name) VALUES (?)', (x,))\n",
    "    \n",
    "conn.commit()\n",
    "\n",
    "! sqlite3 db1.sqlite \"select * from mytable\""
   ]
  },
  {
   "cell_type": "code",
   "execution_count": 69,
   "metadata": {},
   "outputs": [
    {
     "name": "stdout",
     "output_type": "stream",
     "text": [
      "There is an insert error... ignore x =  John\n",
      "John\r\n",
      "Mary\r\n",
      "Jane\r\n",
      "Jack\r\n",
      "Lily\r\n"
     ]
    }
   ],
   "source": [
    "!rm -f db1.sqlite\n",
    "\n",
    "conn = sqlite3.connect('db1.sqlite')\n",
    "conn = sqlite3.connect('db1.sqlite')\n",
    "cur = conn.cursor()\n",
    "cur = conn.execute('DROP TABLE IF EXISTS mytable')\n",
    "cur.execute('CREATE TABLE mytable (name TEXT UNIQUE)') \n",
    "\n",
    "for x in ['John', 'Mary', 'Jane'] + ['John'] + ['Jack', 'Lily']:   # contains duplicate item\n",
    "\n",
    "    try:      # protect the possible error by try-except\n",
    "        cur.execute('INSERT INTO mytable (name) VALUES (?)', (x,))\n",
    "    except:\n",
    "        print(\"There is an insert error... ignore x = \", x)\n",
    "        continue\n",
    "    \n",
    "conn.commit()\n",
    "conn.close()\n",
    "\n",
    "! sqlite3 db1.sqlite \"select * from mytable\""
   ]
  },
  {
   "cell_type": "markdown",
   "metadata": {},
   "source": [
    "- When the \"try\" action fails, the control falls into \"except\".\n",
    "- Try-except has many other uses"
   ]
  },
  {
   "cell_type": "markdown",
   "metadata": {},
   "source": [
    "## Since you cannot guarantee the run time environment, it is a good idea to protect the code from possible crash by using try/except.\n",
    "\n",
    "Another common example - trying to open a file that does not exist:"
   ]
  },
  {
   "cell_type": "code",
   "execution_count": 70,
   "metadata": {},
   "outputs": [
    {
     "name": "stdout",
     "output_type": "stream",
     "text": [
      "program starts...\n",
      "program continues...\n"
     ]
    }
   ],
   "source": [
    "# What if the file does not exist\n",
    "\n",
    "print('program starts...')\n",
    "\n",
    "#f = open('myfile.txt', 'r')\n",
    "#x = f.reads()\n",
    "#f.close()\n",
    "\n",
    "print('program continues...')"
   ]
  },
  {
   "cell_type": "code",
   "execution_count": 71,
   "metadata": {},
   "outputs": [
    {
     "name": "stdout",
     "output_type": "stream",
     "text": [
      "program starts...\n",
      "file open error\n",
      "program continues...\n"
     ]
    }
   ],
   "source": [
    "# code protected by try-except:\n",
    "\n",
    "print('program starts...')\n",
    "\n",
    "try:\n",
    "    f = open('myfile.txt', 'r')\n",
    "    x = f.reads()\n",
    "    f.close()\n",
    "except:\n",
    "    print('file open error')\n",
    "    pass\n",
    "\n",
    "print('program continues...')"
   ]
  },
  {
   "cell_type": "markdown",
   "metadata": {
    "collapsed": true
   },
   "source": [
    "# XML parsing example\n",
    "\n"
   ]
  },
  {
   "cell_type": "markdown",
   "metadata": {},
   "source": [
    "XML example\n",
    "\n",
    "```xml\n",
    "<person>\n",
    "  <name>John</name>\n",
    "  <phone type=\"intl\">\n",
    "    +1 310 123 4567\n",
    "  </phone>\n",
    "  <email hide=\"yes\"/>\n",
    "</person>\n",
    "\n",
    "```\n",
    "\n",
    "For more information about XML, see, e.g. https://en.wikipedia.org/wiki/XML and other references"
   ]
  },
  {
   "cell_type": "code",
   "execution_count": 72,
   "metadata": {},
   "outputs": [
    {
     "name": "stdout",
     "output_type": "stream",
     "text": [
      "Name =  John\n",
      "Attr =  yes\n"
     ]
    }
   ],
   "source": [
    "import xml.etree.ElementTree as ET\n",
    "\n",
    "with open('xml.xml', 'r') as f:\n",
    "    data = f.read()\n",
    "    \n",
    "tree = ET.fromstring(data)    # read in XML as a tree structure\n",
    "\n",
    "print('Name = ', tree.find('name').text )           # get a value\n",
    "print('Attr = ', tree.find('email').get('hide') )   # get an attribute"
   ]
  },
  {
   "cell_type": "markdown",
   "metadata": {},
   "source": [
    "## Accessing multiple nodes in XML"
   ]
  },
  {
   "cell_type": "code",
   "execution_count": 73,
   "metadata": {},
   "outputs": [
    {
     "name": "stdout",
     "output_type": "stream",
     "text": [
      "Name =  Marie\n",
      "id   =  023\n",
      "Name =  Bret\n",
      "id   =  023\n"
     ]
    }
   ],
   "source": [
    "with open('xml2.xml', 'r') as f:\n",
    "    data = f.read()\n",
    "\n",
    "import xml.etree.ElementTree as ET\n",
    "\n",
    "myxml = ET.fromstring(data)\n",
    "ulist = myxml.findall('users/user')   # find all user under \"users\"\n",
    "\n",
    "for x in ulist:\n",
    "    print('Name = ', x.find('name').text  )\n",
    "    print('id   = ', x.find('id').text  )"
   ]
  },
  {
   "cell_type": "markdown",
   "metadata": {},
   "source": [
    "# JSON \n",
    "\n",
    "Another popular format for data exchange.\n",
    "\n",
    "```json\n",
    "{\n",
    "    \"glossary\": {\n",
    "        \"title\": \"example glossary\",\n",
    "        \"GlossDiv\": {\n",
    "            \"title\": \"S\",\n",
    "            \"GlossList\": {\n",
    "                \"GlossEntry\": {\n",
    "                    \"ID\": \"SGML\",\n",
    "                    \"SortAs\": \"SGML\",\n",
    "                    \"GlossTerm\": \"Standard Generalized Markup Language\",\n",
    "                    \"Acronym\": \"SGML\",\n",
    "                    \"Abbrev\": \"ISO 8879:1986\",\n",
    "                    \"GlossDef\": {\n",
    "                        \"para\": \"A meta-markup language, used to create markup languages such as DocBook.\",\n",
    "                        \"GlossSeeAlso\": [\"GML\", \"XML\"]\n",
    "                    },\n",
    "                    \"GlossSee\": \"markup\"\n",
    "                }\n",
    "            }\n",
    "        }\n",
    "    }\n",
    "}\n",
    "```\n",
    "\n",
    "For more info, see,  http://json.org"
   ]
  },
  {
   "cell_type": "code",
   "execution_count": 74,
   "metadata": {},
   "outputs": [
    {
     "name": "stdout",
     "output_type": "stream",
     "text": [
      "[{'id': '015', 'x': '6', 'name': 'John'}, {'id': '023', 'x': '2', 'name': 'Marie'}]\n"
     ]
    }
   ],
   "source": [
    "import json\n",
    "\n",
    "with open('json.json', 'r') as f:\n",
    "    data = f.read()\n",
    "\n",
    "info = json.loads(data) # load a string in JSON format into a Python object\n",
    "print(info)"
   ]
  },
  {
   "cell_type": "code",
   "execution_count": 75,
   "metadata": {},
   "outputs": [
    {
     "name": "stdout",
     "output_type": "stream",
     "text": [
      "John\n",
      "Marie\n"
     ]
    }
   ],
   "source": [
    "for item in info:\n",
    "    print(item['name'])"
   ]
  },
  {
   "cell_type": "markdown",
   "metadata": {},
   "source": [
    "## Google API example"
   ]
  },
  {
   "cell_type": "code",
   "execution_count": 76,
   "metadata": {
    "collapsed": true
   },
   "outputs": [],
   "source": [
    "import json\n",
    "import urllib.request\n",
    "\n",
    "u = urllib.request.urlopen('https://maps.googleapis.com/maps/api/geocode/json?' \\\n",
    "        + 'address=10920+Wilshire+Blvd,+Los+Angeles,+CA')\n",
    "X = u.read().decode()\n",
    "data = json.loads(X)"
   ]
  },
  {
   "cell_type": "code",
   "execution_count": 77,
   "metadata": {},
   "outputs": [
    {
     "data": {
      "text/plain": [
       "{'results': [{'address_components': [{'long_name': '10920',\n",
       "     'short_name': '10920',\n",
       "     'types': ['street_number']},\n",
       "    {'long_name': 'Wilshire Boulevard',\n",
       "     'short_name': 'Wilshire Blvd',\n",
       "     'types': ['route']},\n",
       "    {'long_name': 'Westwood',\n",
       "     'short_name': 'Westwood',\n",
       "     'types': ['neighborhood', 'political']},\n",
       "    {'long_name': 'Los Angeles',\n",
       "     'short_name': 'Los Angeles',\n",
       "     'types': ['locality', 'political']},\n",
       "    {'long_name': 'Los Angeles County',\n",
       "     'short_name': 'Los Angeles County',\n",
       "     'types': ['administrative_area_level_2', 'political']},\n",
       "    {'long_name': 'California',\n",
       "     'short_name': 'CA',\n",
       "     'types': ['administrative_area_level_1', 'political']},\n",
       "    {'long_name': 'United States',\n",
       "     'short_name': 'US',\n",
       "     'types': ['country', 'political']},\n",
       "    {'long_name': '90024', 'short_name': '90024', 'types': ['postal_code']}],\n",
       "   'formatted_address': '10920 Wilshire Blvd, Los Angeles, CA 90024, USA',\n",
       "   'geometry': {'bounds': {'northeast': {'lat': 34.0584039,\n",
       "      'lng': -118.4443457},\n",
       "     'southwest': {'lat': 34.0579069, 'lng': -118.4449659}},\n",
       "    'location': {'lat': 34.0581554, 'lng': -118.4446558},\n",
       "    'location_type': 'ROOFTOP',\n",
       "    'viewport': {'northeast': {'lat': 34.05950438029151,\n",
       "      'lng': -118.4433068197085},\n",
       "     'southwest': {'lat': 34.05680641970851, 'lng': -118.4460047802915}}},\n",
       "   'place_id': 'ChIJcXhjG367woARNeuPB18K-HM',\n",
       "   'types': ['premise']}],\n",
       " 'status': 'OK'}"
      ]
     },
     "execution_count": 77,
     "metadata": {},
     "output_type": "execute_result"
    }
   ],
   "source": [
    "data"
   ]
  },
  {
   "cell_type": "code",
   "execution_count": 78,
   "metadata": {},
   "outputs": [
    {
     "data": {
      "text/plain": [
       "{'address_components': [{'long_name': '10920',\n",
       "   'short_name': '10920',\n",
       "   'types': ['street_number']},\n",
       "  {'long_name': 'Wilshire Boulevard',\n",
       "   'short_name': 'Wilshire Blvd',\n",
       "   'types': ['route']},\n",
       "  {'long_name': 'Westwood',\n",
       "   'short_name': 'Westwood',\n",
       "   'types': ['neighborhood', 'political']},\n",
       "  {'long_name': 'Los Angeles',\n",
       "   'short_name': 'Los Angeles',\n",
       "   'types': ['locality', 'political']},\n",
       "  {'long_name': 'Los Angeles County',\n",
       "   'short_name': 'Los Angeles County',\n",
       "   'types': ['administrative_area_level_2', 'political']},\n",
       "  {'long_name': 'California',\n",
       "   'short_name': 'CA',\n",
       "   'types': ['administrative_area_level_1', 'political']},\n",
       "  {'long_name': 'United States',\n",
       "   'short_name': 'US',\n",
       "   'types': ['country', 'political']},\n",
       "  {'long_name': '90024', 'short_name': '90024', 'types': ['postal_code']}],\n",
       " 'formatted_address': '10920 Wilshire Blvd, Los Angeles, CA 90024, USA',\n",
       " 'geometry': {'bounds': {'northeast': {'lat': 34.0584039, 'lng': -118.4443457},\n",
       "   'southwest': {'lat': 34.0579069, 'lng': -118.4449659}},\n",
       "  'location': {'lat': 34.0581554, 'lng': -118.4446558},\n",
       "  'location_type': 'ROOFTOP',\n",
       "  'viewport': {'northeast': {'lat': 34.05950438029151,\n",
       "    'lng': -118.4433068197085},\n",
       "   'southwest': {'lat': 34.05680641970851, 'lng': -118.4460047802915}}},\n",
       " 'place_id': 'ChIJcXhjG367woARNeuPB18K-HM',\n",
       " 'types': ['premise']}"
      ]
     },
     "execution_count": 78,
     "metadata": {},
     "output_type": "execute_result"
    }
   ],
   "source": [
    "data['results'][0]"
   ]
  },
  {
   "cell_type": "code",
   "execution_count": 79,
   "metadata": {},
   "outputs": [
    {
     "data": {
      "text/plain": [
       "34.0581554"
      ]
     },
     "execution_count": 79,
     "metadata": {},
     "output_type": "execute_result"
    }
   ],
   "source": [
    "data['results'][0]['geometry']['location']['lat']"
   ]
  },
  {
   "cell_type": "markdown",
   "metadata": {
    "collapsed": true
   },
   "source": [
    "# File and path\n",
    "\n",
    "The `os` module has a lot of useful tools.\n",
    "\n",
    "```python\n",
    "import os\n",
    "```\n",
    "\n",
    "- Linux and Mac use the UNIX-style path, e.g. `/Users/your_name/Desktop`\n",
    "- Windows use a different path, e.g. `C:\\\\Users\\\\your_name\\\\Desktop`\n",
    "\n",
    "Python program can be made cross-platform (same code runs on both Windows and UNIX), if you use the correct function calls to construct path names. \n",
    "\n",
    "Using the `/` (on UNIX) or `\\\\` (on Windows) in path names makes your Python code non-cross-platform.\n"
   ]
  },
  {
   "cell_type": "code",
   "execution_count": 80,
   "metadata": {},
   "outputs": [
    {
     "name": "stdout",
     "output_type": "stream",
     "text": [
      "current directory =  /Users/schuang/git/python-lecture-notes/module5\n"
     ]
    }
   ],
   "source": [
    "# the current dirctory\n",
    "\n",
    "import os\n",
    "cwd = os.getcwd()\n",
    "print(\"current directory = \", cwd)"
   ]
  },
  {
   "cell_type": "code",
   "execution_count": 81,
   "metadata": {},
   "outputs": [
    {
     "data": {
      "text/plain": [
       "['.ipynb_checkpoints',\n",
       " 'data',\n",
       " 'db1.sqlite',\n",
       " 'json.json',\n",
       " 'module5.ipynb',\n",
       " 'mydb.sqlite',\n",
       " 'xml.xml',\n",
       " 'xml2.xml']"
      ]
     },
     "execution_count": 81,
     "metadata": {},
     "output_type": "execute_result"
    }
   ],
   "source": [
    "# list files\n",
    "\n",
    "os.listdir(cwd)"
   ]
  },
  {
   "cell_type": "markdown",
   "metadata": {},
   "source": [
    "## join path and file name"
   ]
  },
  {
   "cell_type": "code",
   "execution_count": 82,
   "metadata": {
    "collapsed": true
   },
   "outputs": [],
   "source": [
    "## home directory\n",
    "\n",
    "homedir = os.path.expanduser('~')    # works on both UNIX and Windows"
   ]
  },
  {
   "cell_type": "code",
   "execution_count": 83,
   "metadata": {},
   "outputs": [
    {
     "data": {
      "text/plain": [
       "'/Users/schuang/Desktop'"
      ]
     },
     "execution_count": 83,
     "metadata": {},
     "output_type": "execute_result"
    }
   ],
   "source": [
    "root = os.path.expanduser('~')\n",
    "dir = 'Desktop'\n",
    "os.path.join(root, dir)    # on Windows, the path will automatically use `\\\\`"
   ]
  },
  {
   "cell_type": "code",
   "execution_count": 84,
   "metadata": {},
   "outputs": [
    {
     "data": {
      "text/plain": [
       "False"
      ]
     },
     "execution_count": 84,
     "metadata": {},
     "output_type": "execute_result"
    }
   ],
   "source": [
    "# check if a file is a file\n",
    "homedir =  os.path.expanduser('~')   \n",
    "f = os.path.join(homedir, 'git', 'pyclass-2017')   # this is a directory\n",
    "os.path.isfile(f) "
   ]
  },
  {
   "cell_type": "code",
   "execution_count": 85,
   "metadata": {},
   "outputs": [
    {
     "data": {
      "text/plain": [
       "True"
      ]
     },
     "execution_count": 85,
     "metadata": {},
     "output_type": "execute_result"
    }
   ],
   "source": [
    "f = os.path.join(homedir, 'git', 'pyclass-2017', 'info.tex')  # this is a file\n",
    "os.path.isfile(f)  "
   ]
  },
  {
   "cell_type": "code",
   "execution_count": 86,
   "metadata": {},
   "outputs": [
    {
     "name": "stdout",
     "output_type": "stream",
     "text": [
      ".git                                     .................[x]\n",
      ".gitignore                               .................[x]\n",
      ".ipynb_checkpoints                       .................[x]\n",
      "__pycache__                              .................[x]\n",
      "addr_to_img.py                           .................[x]\n",
      "data                                     .................[x]\n",
      "db1.sqlite                               .................[o]\n",
      "fig                                      .................[x]\n",
      "foo.json                                 .................[x]\n",
      "hw1                                      .................[x]\n",
      "hw2                                      .................[x]\n",
      "hw3                                      .................[x]\n",
      "hw4                                      .................[x]\n",
      "HW4solutions.ipynb                       .................[x]\n",
      "info.pdf                                 .................[x]\n",
      "info.tex                                 .................[x]\n",
      "ini.conf                                 .................[x]\n",
      "ini2.conf                                .................[x]\n",
      "Lecture01Notes.ipynb                     .................[x]\n",
      "Lecture01Notes.pdf                       .................[x]\n",
      "Lecture02Notes.ipynb                     .................[x]\n",
      "Lecture02Notes.pdf                       .................[x]\n",
      "Lecture03Notes.ipynb                     .................[x]\n",
      "Lecture03Notes.pdf                       .................[x]\n",
      "Lecture04Notes.ipynb                     .................[x]\n",
      "Lecture04Notes.pdf                       .................[x]\n",
      "Lecture05Notes.ipynb                     .................[x]\n",
      "Lecture05Notes.pdf                       .................[x]\n",
      "Lecture06Notes-gspread.pdf               .................[x]\n",
      "Lecture06Notes.ipynb                     .................[x]\n",
      "Lecture06Notes.pdf                       .................[x]\n",
      "Lecture07                                .................[x]\n",
      "Lecture07Notes.ipynb                     .................[x]\n",
      "Lecture07Notes.pdf                       .................[x]\n",
      "Lecture08                                .................[x]\n",
      "Lecture09                                .................[x]\n",
      "mydb.sqlite                              .................[o]\n",
      "pandoc_latex_include                     .................[x]\n",
      "pi.py                                    .................[x]\n",
      "quiz1                                    .................[x]\n",
      "spider.py                                .................[x]\n",
      "streetview-0.jpg                         .................[x]\n",
      "streetview-1.jpg                         .................[x]\n",
      "streetview-2.jpg                         .................[x]\n",
      "streetview-3.jpg                         .................[x]\n",
      "streetview-4.jpg                         .................[x]\n",
      "streetview-5.jpg                         .................[x]\n",
      "streetview-6.jpg                         .................[x]\n",
      "streetview-7.jpg                         .................[x]\n",
      "streetview.html                          .................[x]\n",
      "streetview.py                            .................[x]\n",
      "webcrawl.py                              .................[x]\n",
      "Total: 2 files, 50 non-files\n"
     ]
    }
   ],
   "source": [
    "# [o] if a file, [x] if not\n",
    "\n",
    "cwd = os.path.join(homedir, 'git', 'pyclass-2017')\n",
    "count_f = 0\n",
    "count_d = 0\n",
    "for x in os.listdir(cwd):\n",
    "    if os.path.isfile(x):\n",
    "        print('{:<40} {:.>20}'.format(x, '[o]'))\n",
    "        count_f += 1              # same as count = count + 1\n",
    "    else:\n",
    "        print('{:<40} {:.>20}'.format(x, '[x]'))\n",
    "        count_d += 1\n",
    "print(\"Total: {} files, {} non-files\".format(count_f, count_d))"
   ]
  },
  {
   "cell_type": "markdown",
   "metadata": {},
   "source": [
    "# Traverse (walk) a directory\n",
    "\n",
    "`os.walk()` returns the (dirpath, dirnames, filenames) tuples of all (sub)directories, top-to-bottom by default.\n",
    "\n",
    "- dirpath : the path to the directory\n",
    "- dirnames: a list of subdirectories in dirpath\n",
    "- filenames: a list of non-directory files in dirpath"
   ]
  },
  {
   "cell_type": "code",
   "execution_count": 87,
   "metadata": {
    "scrolled": true
   },
   "outputs": [
    {
     "name": "stdout",
     "output_type": "stream",
     "text": [
      "/tmp ['.vbox-schuang-ipc', 'Atom Crashes', 'boost_interprocess', 'com.apple.launchd.3bMDh79Ui2', 'com.apple.launchd.4UClYwsQIj', 'com.apple.launchd.4wItX14oyb', 'com.apple.launchd.6BJXlVqVmx', 'com.apple.launchd.7yQtqlAWSo', 'com.apple.launchd.8FZXXqp3cQ', 'com.apple.launchd.adomKZoVz6', 'com.apple.launchd.bQKr4cJ9av', 'com.apple.launchd.CoZJTDYX7l', 'com.apple.launchd.cVxAPyamfP', 'com.apple.launchd.dJiergRV3b', 'com.apple.launchd.guNT0Zqs7R', 'com.apple.launchd.hiQHmgNkPn', 'com.apple.launchd.IFVguN0HFp', 'com.apple.launchd.JLotExl3lY', 'com.apple.launchd.kpbZvYmIuV', 'com.apple.launchd.LA1LhW0m6g', 'com.apple.launchd.MlcAD8maaE', 'com.apple.launchd.NAYjgsYPoV', 'com.apple.launchd.pV0HO5ZLJb', 'com.apple.launchd.tEx63Z6cxl', 'com.apple.launchd.vUM0HFacuN', 'com.apple.launchd.WzsUtg9nKE', 'com.apple.launchd.YAQy0iQN7b', 'KSDownloadAction.nnuLpgH6OF', 'KSDownloadAction.y3BQDrLC11'] ['.keystone_install_lock', 'adobegc.log', 'adobesmuoutpEvScDf', 'adobesmuoutpHBL5g4', 'adobesmuoutpn2u3GB', 'adobesmuoutprQwPTq', 'com.adobe.acrobat.rna.0.1f5', 'com.adobe.acrobat.rna.1381.1f5', 'com.adobe.acrobat.rna.28be.1f5', 'com.adobe.acrobat.rna.3940.1f5', 'com.adobe.acrobat.rna.3d21.1f5', 'com.adobe.acrobat.rna.AcroCefBrowserLock', 'com.microsoft.excel.update.generic.postinstall.Microsoft_Excel.pkg.log', 'swtag.log', 'wifi-10-14-2017__10:27:28.log', 'wifi-10-16-2017__09:59:29.log', 'wifi-10-16-2017__09:59:31.log', 'wifi-10-16-2017__09:59:32.log', 'wifi-10-16-2017__09:59:46.log', 'wifi-10-16-2017__09:59:47.log', 'wifi-10-16-2017__09:59:48.log', 'wifi-10-16-2017__09:59:50.log', 'wifi-10-16-2017__15:13:20.log', 'wifi-10-16-2017__15:13:24.log', 'wifi-10-16-2017__15:17:53.log', 'wifi-10-17-2017__11:56:39.log']\n",
      "/tmp/.vbox-schuang-ipc [] ['ipcd', 'lock']\n",
      "/tmp/Atom Crashes [] []\n",
      "/tmp/boost_interprocess [] ['AcrobatCefOSRShm1A0O9VLPskB7SA6G', 'AcrobatCefOSRShm2PaTOySmWKN8QVYc']\n",
      "/tmp/com.apple.launchd.3bMDh79Ui2 [] ['org.macosforge.xquartz:0']\n",
      "/tmp/com.apple.launchd.4UClYwsQIj [] ['Listeners']\n",
      "/tmp/com.apple.launchd.4wItX14oyb [] ['Render']\n",
      "/tmp/com.apple.launchd.6BJXlVqVmx [] ['org.macosforge.xquartz:0']\n",
      "/tmp/com.apple.launchd.7yQtqlAWSo [] ['org.macosforge.xquartz:0']\n",
      "/tmp/com.apple.launchd.8FZXXqp3cQ [] ['Render']\n",
      "/tmp/com.apple.launchd.adomKZoVz6 [] ['org.macosforge.xquartz:0']\n",
      "/tmp/com.apple.launchd.CoZJTDYX7l [] ['Listeners']\n",
      "/tmp/com.apple.launchd.hiQHmgNkPn [] ['Listeners']\n",
      "/tmp/com.apple.launchd.JLotExl3lY [] ['Listeners']\n",
      "/tmp/com.apple.launchd.kpbZvYmIuV [] ['Render']\n",
      "/tmp/com.apple.launchd.LA1LhW0m6g [] ['Render']\n",
      "/tmp/com.apple.launchd.MlcAD8maaE [] ['Render']\n",
      "/tmp/com.apple.launchd.NAYjgsYPoV [] ['Listeners']\n",
      "/tmp/com.apple.launchd.pV0HO5ZLJb [] ['org.macosforge.xquartz:0']\n",
      "/tmp/com.apple.launchd.tEx63Z6cxl [] ['org.macosforge.xquartz:0']\n",
      "/tmp/com.apple.launchd.WzsUtg9nKE [] ['Listeners']\n",
      "/tmp/com.apple.launchd.YAQy0iQN7b [] ['Render']\n",
      "/tmp/KSDownloadAction.nnuLpgH6OF [] []\n"
     ]
    }
   ],
   "source": [
    "import os\n",
    "for (dirname, dirs, files) in os.walk('/tmp'):\n",
    "    print(dirname, dirs, files)"
   ]
  },
  {
   "cell_type": "code",
   "execution_count": 88,
   "metadata": {},
   "outputs": [
    {
     "name": "stdout",
     "output_type": "stream",
     "text": [
      "cwd = /Users/schuang/git/python-lecture-notes/module5\n",
      "fname = .ipynb_checkpoints\n",
      "full path = /Users/schuang/git/python-lecture-notes/module5/.ipynb_checkpoints\n"
     ]
    }
   ],
   "source": [
    "# create full path from dir and filename using os.path.join\n",
    "\n",
    "import os\n",
    "\n",
    "cwd = os.getcwd()\n",
    "fname = os.listdir(cwd)[0]\n",
    "print(\"cwd = {}\\nfname = {}\\nfull path = {}\".format(cwd, fname, os.path.join(cwd, fname)  ))"
   ]
  },
  {
   "cell_type": "markdown",
   "metadata": {},
   "source": [
    "## file size"
   ]
  },
  {
   "cell_type": "code",
   "execution_count": 89,
   "metadata": {},
   "outputs": [
    {
     "data": {
      "text/plain": [
       "111"
      ]
     },
     "execution_count": 89,
     "metadata": {},
     "output_type": "execute_result"
    }
   ],
   "source": [
    "import os\n",
    "cwd = os.getcwd()\n",
    "f = os.path.join(cwd, 'xml.xml')\n",
    "os.path.getsize(f)   # size in bytes"
   ]
  },
  {
   "cell_type": "code",
   "execution_count": 90,
   "metadata": {},
   "outputs": [
    {
     "name": "stdout",
     "output_type": "stream",
     "text": [
      "/Users/schuang/git/python-lecture-notes/module5          6 non-dir files      71310 bytes\n",
      "/Users/schuang/git/python-lecture-notes/module5/.ipynb_checkpoints  1 non-dir files      50560 bytes\n",
      "/Users/schuang/git/python-lecture-notes/module5/data     1 non-dir files       8192 bytes\n"
     ]
    }
   ],
   "source": [
    "# check the non-directory file size of all subdirectories, skipping the .git directory\n",
    "\n",
    "import os\n",
    "from os.path import join, getsize\n",
    "\n",
    "cwd = os.getcwd()\n",
    "for root, dirs, files in os.walk(cwd):\n",
    "    \n",
    "    total_size = 0\n",
    "    for name in files:\n",
    "        fullpath = os.path.join(root, name)\n",
    "        total_size += os.path.getsize(fullpath)\n",
    "\n",
    "    print(\"{:<55}{:>3} non-dir files {:>10} bytes\".format(root, len(files), total_size))\n",
    "\n",
    "    if '.git' in dirs:       # skip the .git directory\n",
    "        dirs.remove('.git')"
   ]
  },
  {
   "cell_type": "markdown",
   "metadata": {},
   "source": [
    "## file time stamp\n",
    "\n",
    "- ctime: creation time\n",
    "- mtime: modification time\n",
    "- atime: access time"
   ]
  },
  {
   "cell_type": "code",
   "execution_count": 91,
   "metadata": {},
   "outputs": [
    {
     "data": {
      "text/plain": [
       "(1508373704.0, 1507162208.0, 1507162208.0)"
      ]
     },
     "execution_count": 91,
     "metadata": {},
     "output_type": "execute_result"
    }
   ],
   "source": [
    "import os\n",
    "fn = 'json.json'\n",
    "os.path.getatime(fn), os.path.getctime(fn), os.path.getmtime(fn)"
   ]
  },
  {
   "cell_type": "code",
   "execution_count": 92,
   "metadata": {},
   "outputs": [
    {
     "data": {
      "text/plain": [
       "datetime.datetime(2017, 7, 26, 14, 59, 46, 11095)"
      ]
     },
     "execution_count": 92,
     "metadata": {},
     "output_type": "execute_result"
    }
   ],
   "source": [
    "import datetime\n",
    "datetime.datetime.fromtimestamp(1501106386.011095)"
   ]
  },
  {
   "cell_type": "code",
   "execution_count": 93,
   "metadata": {},
   "outputs": [
    {
     "data": {
      "text/plain": [
       "'2017-07-26 14:59'"
      ]
     },
     "execution_count": 93,
     "metadata": {},
     "output_type": "execute_result"
    }
   ],
   "source": [
    "datetime.datetime.fromtimestamp(1501106386.011095).strftime('%Y-%m-%d %H:%M')"
   ]
  },
  {
   "cell_type": "code",
   "execution_count": 94,
   "metadata": {},
   "outputs": [
    {
     "data": {
      "text/plain": [
       "os.stat_result(st_mode=33188, st_ino=19659054, st_dev=16777220, st_nlink=1, st_uid=501, st_gid=20, st_size=138, st_atime=1508373704, st_mtime=1507162208, st_ctime=1507162208)"
      ]
     },
     "execution_count": 94,
     "metadata": {},
     "output_type": "execute_result"
    }
   ],
   "source": [
    "os.stat(fn)"
   ]
  },
  {
   "cell_type": "code",
   "execution_count": 95,
   "metadata": {},
   "outputs": [
    {
     "data": {
      "text/plain": [
       "1508373704.0"
      ]
     },
     "execution_count": 95,
     "metadata": {},
     "output_type": "execute_result"
    }
   ],
   "source": [
    "os.stat(fn).st_atime"
   ]
  },
  {
   "cell_type": "markdown",
   "metadata": {},
   "source": [
    "## Changing directory"
   ]
  },
  {
   "cell_type": "code",
   "execution_count": 96,
   "metadata": {},
   "outputs": [
    {
     "name": "stdout",
     "output_type": "stream",
     "text": [
      "current directory = /Users/schuang/git/python-lecture-notes/module5\n",
      "['.ipynb_checkpoints', 'data', 'db1.sqlite', 'json.json', 'module5.ipynb']\n"
     ]
    }
   ],
   "source": [
    "import os\n",
    "cwd = os.getcwd()\n",
    "print('current directory = {}'.format(cwd))\n",
    "print(os.listdir(cwd)[0:5])"
   ]
  },
  {
   "cell_type": "code",
   "execution_count": 97,
   "metadata": {},
   "outputs": [
    {
     "name": "stdout",
     "output_type": "stream",
     "text": [
      "current directory = /private/tmp\n",
      "['.keystone_install_lock', '.vbox-schuang-ipc', 'adobegc.log', 'adobesmuoutpEvScDf', 'adobesmuoutpHBL5g4', 'adobesmuoutpn2u3GB', 'adobesmuoutprQwPTq', 'Atom Crashes', 'boost_interprocess', 'com.adobe.acrobat.rna.0.1f5', 'com.adobe.acrobat.rna.1381.1f5', 'com.adobe.acrobat.rna.28be.1f5', 'com.adobe.acrobat.rna.3940.1f5', 'com.adobe.acrobat.rna.3d21.1f5', 'com.adobe.acrobat.rna.AcroCefBrowserLock', 'com.apple.launchd.3bMDh79Ui2', 'com.apple.launchd.4UClYwsQIj', 'com.apple.launchd.4wItX14oyb', 'com.apple.launchd.6BJXlVqVmx', 'com.apple.launchd.7yQtqlAWSo', 'com.apple.launchd.8FZXXqp3cQ', 'com.apple.launchd.adomKZoVz6', 'com.apple.launchd.bQKr4cJ9av', 'com.apple.launchd.CoZJTDYX7l', 'com.apple.launchd.cVxAPyamfP', 'com.apple.launchd.dJiergRV3b', 'com.apple.launchd.guNT0Zqs7R', 'com.apple.launchd.hiQHmgNkPn', 'com.apple.launchd.IFVguN0HFp', 'com.apple.launchd.JLotExl3lY', 'com.apple.launchd.kpbZvYmIuV', 'com.apple.launchd.LA1LhW0m6g', 'com.apple.launchd.MlcAD8maaE', 'com.apple.launchd.NAYjgsYPoV', 'com.apple.launchd.pV0HO5ZLJb', 'com.apple.launchd.tEx63Z6cxl', 'com.apple.launchd.vUM0HFacuN', 'com.apple.launchd.WzsUtg9nKE', 'com.apple.launchd.YAQy0iQN7b', 'com.microsoft.excel.update.generic.postinstall.Microsoft_Excel.pkg.log', 'KSDownloadAction.nnuLpgH6OF', 'KSDownloadAction.y3BQDrLC11', 'swtag.log', 'wifi-10-14-2017__10:27:28.log', 'wifi-10-16-2017__09:59:29.log', 'wifi-10-16-2017__09:59:31.log', 'wifi-10-16-2017__09:59:32.log', 'wifi-10-16-2017__09:59:46.log', 'wifi-10-16-2017__09:59:47.log', 'wifi-10-16-2017__09:59:48.log', 'wifi-10-16-2017__09:59:50.log', 'wifi-10-16-2017__15:13:20.log', 'wifi-10-16-2017__15:13:24.log', 'wifi-10-16-2017__15:17:53.log', 'wifi-10-17-2017__11:56:39.log']\n"
     ]
    }
   ],
   "source": [
    "# change the current working directory\n",
    "\n",
    "os.chdir('/tmp')\n",
    "cwd = os.getcwd()\n",
    "print('current directory = {}'.format(cwd))\n",
    "print(os.listdir(cwd))"
   ]
  },
  {
   "cell_type": "markdown",
   "metadata": {},
   "source": [
    "## Home directory"
   ]
  },
  {
   "cell_type": "code",
   "execution_count": 98,
   "metadata": {},
   "outputs": [
    {
     "data": {
      "text/plain": [
       "'/Users/schuang'"
      ]
     },
     "execution_count": 98,
     "metadata": {},
     "output_type": "execute_result"
    }
   ],
   "source": [
    "os.path.expanduser('~')"
   ]
  },
  {
   "cell_type": "code",
   "execution_count": 99,
   "metadata": {},
   "outputs": [
    {
     "data": {
      "text/plain": [
       "'/Users/schuang/git/pyclass-2017'"
      ]
     },
     "execution_count": 99,
     "metadata": {},
     "output_type": "execute_result"
    }
   ],
   "source": [
    "# full path\n",
    "\n",
    "os.chdir(os.path.join(os.path.expanduser('~'), 'git/pyclass-2017'))\n",
    "os.getcwd()"
   ]
  },
  {
   "cell_type": "code",
   "execution_count": null,
   "metadata": {
    "collapsed": true
   },
   "outputs": [],
   "source": []
  }
 ],
 "metadata": {
  "kernelspec": {
   "display_name": "Python 3",
   "language": "python",
   "name": "python3"
  },
  "language_info": {
   "codemirror_mode": {
    "name": "ipython",
    "version": 3
   },
   "file_extension": ".py",
   "mimetype": "text/x-python",
   "name": "python",
   "nbconvert_exporter": "python",
   "pygments_lexer": "ipython3",
   "version": "3.5.3"
  }
 },
 "nbformat": 4,
 "nbformat_minor": 2
}
